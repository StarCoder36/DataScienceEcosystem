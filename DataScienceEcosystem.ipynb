{
 "cells": [
  {
   "cell_type": "markdown",
   "id": "0eafe77e-cd8f-412d-9cef-680d7f465162",
   "metadata": {},
   "source": [
    "# Exercise 2\n",
    "# Data Science Tools and Ecosystem"
   ]
  },
  {
   "cell_type": "markdown",
   "id": "436ff2b0-a660-4488-a1d0-9a3ab048f743",
   "metadata": {},
   "source": [
    "# Exercise 3\n",
    "In this notebook, Data Science Tools and Ecosystem are summarized."
   ]
  },
  {
   "cell_type": "markdown",
   "id": "1853f7a9-45a3-4b4b-bdbc-740107448d50",
   "metadata": {},
   "source": [
    "# Exercise 10\n",
    "**Objectives:**\n",
    "- Libraries\n",
    "- Anaconda\n",
    "- R language with RStudio\n",
    "- Git and GitHub\n",
    "- Jupyter Notebook"
   ]
  },
  {
   "cell_type": "markdown",
   "id": "06143ea6-0236-4a51-a6f0-f68c6c116f6d",
   "metadata": {},
   "source": [
    "# Exercise 4\n",
    "Some of the popular languages that Data Scientists use are:\n",
    "1. Python\n",
    "2. R\n",
    "3. Julia\n",
    "4. Java\n",
    "5. Scala"
   ]
  },
  {
   "cell_type": "markdown",
   "id": "1a070177-63d4-4dd1-b383-98402ea255e8",
   "metadata": {},
   "source": [
    "# Exercise 5\n",
    "Some of the commonly used libraries used by Data Scientists include:\n",
    "1. Panda\n",
    "2. Matplotlib\n",
    "3. Scikit-Learn\n",
    "4. Tensorflow\n",
    "5. Keras\n",
    "6. Numpy\n"
   ]
  },
  {
   "cell_type": "markdown",
   "id": "04a2d918-9378-4bd6-90ca-81f0d66cd442",
   "metadata": {},
   "source": [
    "# Exercise 6\n",
    "| Data Science Tools |\n",
    "|-----|\n",
    "| Jupyter Notebook |\n",
    "| RStudio |\n",
    "| Anaconda |"
   ]
  },
  {
   "cell_type": "markdown",
   "id": "e9474dca-bd38-4d9b-b9e5-5949e5b3a3e1",
   "metadata": {},
   "source": [
    "# Exercise 7\n",
    "### Below are a few examples of evaluating arithmetic expressions in Python"
   ]
  },
  {
   "cell_type": "markdown",
   "id": "264409b3-437b-42f0-8b90-e8b2b1bbaef6",
   "metadata": {},
   "source": [
    "# Exercise 8"
   ]
  },
  {
   "cell_type": "code",
   "execution_count": 3,
   "id": "58dcc8a6-8648-4d60-9456-2f7319318f81",
   "metadata": {},
   "outputs": [
    {
     "data": {
      "text/plain": [
       "17"
      ]
     },
     "execution_count": 3,
     "metadata": {},
     "output_type": "execute_result"
    }
   ],
   "source": [
    "# This a simple arithmetic expression to multiply then add integers\n",
    "(3*4)+5"
   ]
  },
  {
   "cell_type": "markdown",
   "id": "a7e96759-2d88-484d-a98c-51801768e5b4",
   "metadata": {},
   "source": [
    "# Exercise 9"
   ]
  },
  {
   "cell_type": "code",
   "execution_count": 4,
   "id": "1b85b9e7-48b0-47f6-90d9-e91c5efe3ded",
   "metadata": {},
   "outputs": [
    {
     "name": "stdout",
     "output_type": "stream",
     "text": [
      "3.3333333333333335 hours\n"
     ]
    }
   ],
   "source": [
    "# This will convert 200 minutes to hours by diving by 60\n",
    "div = 200 / 60\n",
    "print(f\"{div} hours\")"
   ]
  },
  {
   "cell_type": "markdown",
   "id": "0bdc20c0-e9f2-4dea-82af-21bae23ae7f1",
   "metadata": {},
   "source": [
    "# Exercise 11\n",
    "## Author\n",
    "Khushi Kshatriya"
   ]
  }
 ],
 "metadata": {
  "kernelspec": {
   "display_name": "Python 3 (ipykernel)",
   "language": "python",
   "name": "python3"
  },
  "language_info": {
   "codemirror_mode": {
    "name": "ipython",
    "version": 3
   },
   "file_extension": ".py",
   "mimetype": "text/x-python",
   "name": "python",
   "nbconvert_exporter": "python",
   "pygments_lexer": "ipython3",
   "version": "3.11.9"
  }
 },
 "nbformat": 4,
 "nbformat_minor": 5
}
